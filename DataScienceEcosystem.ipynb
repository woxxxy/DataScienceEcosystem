{
  "metadata": {
    "kernelspec": {
      "name": "xpython",
      "display_name": "Python 3.13 (XPython)",
      "language": "python"
    },
    "language_info": {
      "file_extension": ".py",
      "mimetype": "text/x-python",
      "name": "python",
      "version": "3.13.1"
    }
  },
  "nbformat_minor": 5,
  "nbformat": 4,
  "cells": [
    {
      "id": "7d80546e-599d-4035-aaa2-56c0a714ff31",
      "cell_type": "markdown",
      "source": "# Data Science Tools and Ecosystem",
      "metadata": {}
    },
    {
      "id": "76b68e12-2986-4af6-ad62-93fc6dee80e1",
      "cell_type": "markdown",
      "source": "In this notebook, Data Science Tools and Ecosystem are summarized.",
      "metadata": {}
    },
    {
      "id": "437652ab-5a45-4a7a-b0a7-c69b4ca648f7",
      "cell_type": "markdown",
      "source": "**Objectives:**\n- List popular languages for Data Science\n- List commonly used libraries for Data Science\n- Create tables of Data Science tools\n- Evaluate arithmetic expressions in Python\n- Convert minutes to hours using Python",
      "metadata": {}
    },
    {
      "id": "326921b1-4672-4039-8fba-c6893f5761a9",
      "cell_type": "markdown",
      "source": "Some of the popular languages that Data Scientists use are:\n\n1. Python\n2. R\n3. SQL\n4. Julia\n5. Scala",
      "metadata": {}
    },
    {
      "id": "dc5eeaa7-e35b-44fe-9587-1b45fe9ae990",
      "cell_type": "markdown",
      "source": "Some of the commonly used libraries used by Data Scientists include:\n\n- Pandas\n- NumPy\n- Scikit-learn",
      "metadata": {}
    },
    {
      "id": "1b4cdc35-5bc9-45f6-83bc-6f3fab385afe",
      "cell_type": "markdown",
      "source": "| Data Science Tools |\n|-------------------|\n| Jupyter Notebook  |\n| RStudio           |\n| VS Code           |",
      "metadata": {}
    },
    {
      "id": "660bde0d-299a-40d0-9663-c181a5205a9c",
      "cell_type": "markdown",
      "source": "### Below are a few examples of evaluating arithmetic expressions in Python.",
      "metadata": {}
    },
    {
      "id": "a755e5ac-be7c-44f3-93d9-110141c13de6",
      "cell_type": "code",
      "source": "# This a simple arithmetic expression to multiply then add integers\n(3 * 4) + 5",
      "metadata": {
        "trusted": true
      },
      "outputs": [
        {
          "execution_count": 2,
          "output_type": "execute_result",
          "data": {
            "text/plain": "17"
          },
          "metadata": {}
        }
      ],
      "execution_count": 2
    },
    {
      "id": "14c3cd7d-9f7e-4e1b-ada4-1f6652f6ed68",
      "cell_type": "code",
      "source": "# This will convert 200 minutes to hours by dividing by 60\n200 / 60",
      "metadata": {
        "trusted": true
      },
      "outputs": [
        {
          "execution_count": 3,
          "output_type": "execute_result",
          "data": {
            "text/plain": "3.3333333333333335"
          },
          "metadata": {}
        }
      ],
      "execution_count": 3
    },
    {
      "id": "adbd1c79-7227-42c2-b9ec-0acbd41072eb",
      "cell_type": "markdown",
      "source": "## Author\nAdrian Ruiz",
      "metadata": {}
    },
    {
      "id": "31e155a4-172a-4b95-8cad-0da22ca1873d",
      "cell_type": "code",
      "source": "",
      "metadata": {
        "trusted": true
      },
      "outputs": [],
      "execution_count": null
    }
  ]
}